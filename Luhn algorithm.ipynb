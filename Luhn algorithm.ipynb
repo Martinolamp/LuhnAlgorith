{
 "cells": [
  {
   "cell_type": "code",
   "execution_count": 1,
   "metadata": {},
   "outputs": [
    {
     "name": "stdout",
     "output_type": "stream",
     "text": [
      "Enter your name hereMarcin\n",
      "Hello Marcin\n"
     ]
    }
   ],
   "source": [
    "\n"
   ]
  },
  {
   "cell_type": "code",
   "execution_count": null,
   "metadata": {},
   "outputs": [],
   "source": []
  },
  {
   "cell_type": "code",
   "execution_count": 1,
   "metadata": {},
   "outputs": [
    {
     "ename": "NameError",
     "evalue": "name 'name' is not defined",
     "output_type": "error",
     "traceback": [
      "\u001b[1;31m---------------------------------------------------------------------------\u001b[0m",
      "\u001b[1;31mNameError\u001b[0m                                 Traceback (most recent call last)",
      "\u001b[1;32m<ipython-input-1-9bc0cb2ed6de>\u001b[0m in \u001b[0;36m<module>\u001b[1;34m\u001b[0m\n\u001b[1;32m----> 1\u001b[1;33m \u001b[0mname\u001b[0m\u001b[1;33m\u001b[0m\u001b[1;33m\u001b[0m\u001b[0m\n\u001b[0m",
      "\u001b[1;31mNameError\u001b[0m: name 'name' is not defined"
     ]
    }
   ],
   "source": [
    "\n"
   ]
  },
  {
   "cell_type": "code",
   "execution_count": 1,
   "metadata": {},
   "outputs": [
    {
     "name": "stdout",
     "output_type": "stream",
     "text": [
      "Podaj numer karty94110103416\n",
      "Numer poprawny\n"
     ]
    }
   ],
   "source": [
    "nr_karty=input(\"Podaj numer karty\")\n",
    "nr_karty = list(map(int,nr_karty))\n",
    "def Luhn(valid):\n",
    "    \n",
    "    valid.reverse()\n",
    "    for i in range(1,len(valid),2):\n",
    "        \n",
    "        valid[i]=valid[i]*2\n",
    "        \n",
    "        \n",
    "        if valid[i]>10:\n",
    "            valid[i]=valid[i]-10+1\n",
    "        elif valid[i]==10:\n",
    "            valid[i]=1\n",
    "        \n",
    "    \n",
    "    \n",
    "    valid=sum(valid)\n",
    "    \n",
    "    return valid\n",
    "    \n",
    "\n",
    "suma=Luhn(nr_karty)\n",
    "if suma%10==0:\n",
    "    print('Numer poprawny')\n",
    "else:\n",
    "    print('Numer błędny')\n"
   ]
  },
  {
   "cell_type": "code",
   "execution_count": null,
   "metadata": {},
   "outputs": [],
   "source": []
  },
  {
   "cell_type": "code",
   "execution_count": null,
   "metadata": {},
   "outputs": [],
   "source": [
    "\n"
   ]
  },
  {
   "cell_type": "code",
   "execution_count": null,
   "metadata": {},
   "outputs": [],
   "source": []
  }
 ],
 "metadata": {
  "kernelspec": {
   "display_name": "Python 3",
   "language": "python",
   "name": "python3"
  },
  "language_info": {
   "codemirror_mode": {
    "name": "ipython",
    "version": 3
   },
   "file_extension": ".py",
   "mimetype": "text/x-python",
   "name": "python",
   "nbconvert_exporter": "python",
   "pygments_lexer": "ipython3",
   "version": "3.7.1"
  }
 },
 "nbformat": 4,
 "nbformat_minor": 4
}
